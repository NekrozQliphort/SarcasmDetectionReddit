{
 "cells": [
  {
   "cell_type": "markdown",
   "id": "a3436568",
   "metadata": {},
   "source": [
    "## Reddit Sarcasm Detection"
   ]
  },
  {
   "cell_type": "markdown",
   "id": "2026e9b0",
   "metadata": {},
   "source": [
    "### Import Libraries"
   ]
  },
  {
   "cell_type": "code",
   "execution_count": 1,
   "id": "fd6f091a",
   "metadata": {},
   "outputs": [],
   "source": [
    "from sklearn.feature_extraction.text import CountVectorizer\n",
    "import pandas as pd\n",
    "import numpy as np"
   ]
  },
  {
   "cell_type": "markdown",
   "id": "1f0fbc20",
   "metadata": {},
   "source": [
    "### Import CSV"
   ]
  },
  {
   "cell_type": "code",
   "execution_count": 2,
   "id": "56714857",
   "metadata": {},
   "outputs": [],
   "source": [
    "training_csv_1 = pd.read_csv(\"train-balanced-sarcasm.csv\")"
   ]
  },
  {
   "cell_type": "code",
   "execution_count": 3,
   "id": "e75419dc",
   "metadata": {},
   "outputs": [],
   "source": [
    "training_csv_1[\"comment\"] = training_csv_1[\"comment\"].astype(str)"
   ]
  },
  {
   "cell_type": "code",
   "execution_count": 4,
   "id": "ffa5dd0e",
   "metadata": {},
   "outputs": [
    {
     "data": {
      "text/html": [
       "<div>\n",
       "<style scoped>\n",
       "    .dataframe tbody tr th:only-of-type {\n",
       "        vertical-align: middle;\n",
       "    }\n",
       "\n",
       "    .dataframe tbody tr th {\n",
       "        vertical-align: top;\n",
       "    }\n",
       "\n",
       "    .dataframe thead th {\n",
       "        text-align: right;\n",
       "    }\n",
       "</style>\n",
       "<table border=\"1\" class=\"dataframe\">\n",
       "  <thead>\n",
       "    <tr style=\"text-align: right;\">\n",
       "      <th></th>\n",
       "      <th>label</th>\n",
       "      <th>comment</th>\n",
       "      <th>author</th>\n",
       "      <th>subreddit</th>\n",
       "      <th>score</th>\n",
       "      <th>ups</th>\n",
       "      <th>downs</th>\n",
       "      <th>date</th>\n",
       "      <th>created_utc</th>\n",
       "      <th>parent_comment</th>\n",
       "    </tr>\n",
       "  </thead>\n",
       "  <tbody>\n",
       "    <tr>\n",
       "      <th>0</th>\n",
       "      <td>0</td>\n",
       "      <td>NC and NH.</td>\n",
       "      <td>Trumpbart</td>\n",
       "      <td>politics</td>\n",
       "      <td>2</td>\n",
       "      <td>-1</td>\n",
       "      <td>-1</td>\n",
       "      <td>2016-10</td>\n",
       "      <td>2016-10-16 23:55:23</td>\n",
       "      <td>Yeah, I get that argument. At this point, I'd ...</td>\n",
       "    </tr>\n",
       "    <tr>\n",
       "      <th>1</th>\n",
       "      <td>0</td>\n",
       "      <td>You do know west teams play against west teams...</td>\n",
       "      <td>Shbshb906</td>\n",
       "      <td>nba</td>\n",
       "      <td>-4</td>\n",
       "      <td>-1</td>\n",
       "      <td>-1</td>\n",
       "      <td>2016-11</td>\n",
       "      <td>2016-11-01 00:24:10</td>\n",
       "      <td>The blazers and Mavericks (The wests 5 and 6 s...</td>\n",
       "    </tr>\n",
       "    <tr>\n",
       "      <th>2</th>\n",
       "      <td>0</td>\n",
       "      <td>They were underdogs earlier today, but since G...</td>\n",
       "      <td>Creepeth</td>\n",
       "      <td>nfl</td>\n",
       "      <td>3</td>\n",
       "      <td>3</td>\n",
       "      <td>0</td>\n",
       "      <td>2016-09</td>\n",
       "      <td>2016-09-22 21:45:37</td>\n",
       "      <td>They're favored to win.</td>\n",
       "    </tr>\n",
       "    <tr>\n",
       "      <th>3</th>\n",
       "      <td>0</td>\n",
       "      <td>This meme isn't funny none of the \"new york ni...</td>\n",
       "      <td>icebrotha</td>\n",
       "      <td>BlackPeopleTwitter</td>\n",
       "      <td>-8</td>\n",
       "      <td>-1</td>\n",
       "      <td>-1</td>\n",
       "      <td>2016-10</td>\n",
       "      <td>2016-10-18 21:03:47</td>\n",
       "      <td>deadass don't kill my buzz</td>\n",
       "    </tr>\n",
       "    <tr>\n",
       "      <th>4</th>\n",
       "      <td>0</td>\n",
       "      <td>I could use one of those tools.</td>\n",
       "      <td>cush2push</td>\n",
       "      <td>MaddenUltimateTeam</td>\n",
       "      <td>6</td>\n",
       "      <td>-1</td>\n",
       "      <td>-1</td>\n",
       "      <td>2016-12</td>\n",
       "      <td>2016-12-30 17:00:13</td>\n",
       "      <td>Yep can confirm I saw the tool they use for th...</td>\n",
       "    </tr>\n",
       "  </tbody>\n",
       "</table>\n",
       "</div>"
      ],
      "text/plain": [
       "   label                                            comment     author  \\\n",
       "0      0                                         NC and NH.  Trumpbart   \n",
       "1      0  You do know west teams play against west teams...  Shbshb906   \n",
       "2      0  They were underdogs earlier today, but since G...   Creepeth   \n",
       "3      0  This meme isn't funny none of the \"new york ni...  icebrotha   \n",
       "4      0                    I could use one of those tools.  cush2push   \n",
       "\n",
       "            subreddit  score  ups  downs     date          created_utc  \\\n",
       "0            politics      2   -1     -1  2016-10  2016-10-16 23:55:23   \n",
       "1                 nba     -4   -1     -1  2016-11  2016-11-01 00:24:10   \n",
       "2                 nfl      3    3      0  2016-09  2016-09-22 21:45:37   \n",
       "3  BlackPeopleTwitter     -8   -1     -1  2016-10  2016-10-18 21:03:47   \n",
       "4  MaddenUltimateTeam      6   -1     -1  2016-12  2016-12-30 17:00:13   \n",
       "\n",
       "                                      parent_comment  \n",
       "0  Yeah, I get that argument. At this point, I'd ...  \n",
       "1  The blazers and Mavericks (The wests 5 and 6 s...  \n",
       "2                            They're favored to win.  \n",
       "3                         deadass don't kill my buzz  \n",
       "4  Yep can confirm I saw the tool they use for th...  "
      ]
     },
     "execution_count": 4,
     "metadata": {},
     "output_type": "execute_result"
    }
   ],
   "source": [
    "training_csv_1.head()"
   ]
  },
  {
   "cell_type": "markdown",
   "id": "cbe97033",
   "metadata": {},
   "source": [
    "### Exploratory Data Analysis"
   ]
  },
  {
   "cell_type": "code",
   "execution_count": 5,
   "id": "7b446461",
   "metadata": {},
   "outputs": [
    {
     "name": "stdout",
     "output_type": "stream",
     "text": [
      "The total training data has 256561 rows.\n"
     ]
    },
    {
     "data": {
      "text/plain": [
       "0.500000    251903\n",
       "1.000000      2302\n",
       "0.333333       770\n",
       "0.400000       405\n",
       "0.428571       268\n",
       "             ...  \n",
       "0.533333         1\n",
       "0.494253         1\n",
       "0.555556         1\n",
       "0.499408         1\n",
       "0.495050         1\n",
       "Name: label, Length: 64, dtype: int64"
      ]
     },
     "execution_count": 5,
     "metadata": {},
     "output_type": "execute_result"
    }
   ],
   "source": [
    "print(f\"The total training data has {training_csv_1.author.nunique()} rows.\")\n",
    "training_csv_1.groupby(\"author\").mean()[\"label\"].value_counts()"
   ]
  },
  {
   "cell_type": "markdown",
   "id": "f40dc3a6",
   "metadata": {},
   "source": [
    "##### The authors is mostly 0.5 probability of each label, might consider dropping it"
   ]
  },
  {
   "cell_type": "code",
   "execution_count": 6,
   "id": "870eb676",
   "metadata": {},
   "outputs": [
    {
     "name": "stdout",
     "output_type": "stream",
     "text": [
      "The total training data has 14878 rows.\n"
     ]
    },
    {
     "data": {
      "text/plain": [
       "0.000000    5883\n",
       "1.000000    2042\n",
       "0.500000    1242\n",
       "0.333333     585\n",
       "0.250000     362\n",
       "            ... \n",
       "0.465517       1\n",
       "0.506567       1\n",
       "0.257874       1\n",
       "0.550802       1\n",
       "0.373333       1\n",
       "Name: label, Length: 1430, dtype: int64"
      ]
     },
     "execution_count": 6,
     "metadata": {},
     "output_type": "execute_result"
    }
   ],
   "source": [
    "print(f\"The total training data has {training_csv_1.subreddit.nunique()} rows.\")\n",
    "training_csv_1.groupby(\"subreddit\").mean()[\"label\"].value_counts()"
   ]
  },
  {
   "cell_type": "markdown",
   "id": "a086d8d0",
   "metadata": {},
   "source": [
    "##### Subreddit seems to provide more info than expected, should probably keep"
   ]
  },
  {
   "cell_type": "code",
   "execution_count": 18,
   "id": "3304002a",
   "metadata": {},
   "outputs": [
    {
     "data": {
      "text/html": [
       "<div>\n",
       "<style scoped>\n",
       "    .dataframe tbody tr th:only-of-type {\n",
       "        vertical-align: middle;\n",
       "    }\n",
       "\n",
       "    .dataframe tbody tr th {\n",
       "        vertical-align: top;\n",
       "    }\n",
       "\n",
       "    .dataframe thead th {\n",
       "        text-align: right;\n",
       "    }\n",
       "</style>\n",
       "<table border=\"1\" class=\"dataframe\">\n",
       "  <thead>\n",
       "    <tr style=\"text-align: right;\">\n",
       "      <th></th>\n",
       "      <th>ups</th>\n",
       "      <th>downs</th>\n",
       "    </tr>\n",
       "  </thead>\n",
       "  <tbody>\n",
       "    <tr>\n",
       "      <th>0</th>\n",
       "      <td>-1</td>\n",
       "      <td>-1</td>\n",
       "    </tr>\n",
       "    <tr>\n",
       "      <th>1</th>\n",
       "      <td>-1</td>\n",
       "      <td>-1</td>\n",
       "    </tr>\n",
       "    <tr>\n",
       "      <th>2</th>\n",
       "      <td>3</td>\n",
       "      <td>0</td>\n",
       "    </tr>\n",
       "    <tr>\n",
       "      <th>3</th>\n",
       "      <td>-1</td>\n",
       "      <td>-1</td>\n",
       "    </tr>\n",
       "    <tr>\n",
       "      <th>4</th>\n",
       "      <td>-1</td>\n",
       "      <td>-1</td>\n",
       "    </tr>\n",
       "    <tr>\n",
       "      <th>...</th>\n",
       "      <td>...</td>\n",
       "      <td>...</td>\n",
       "    </tr>\n",
       "    <tr>\n",
       "      <th>1010821</th>\n",
       "      <td>2</td>\n",
       "      <td>0</td>\n",
       "    </tr>\n",
       "    <tr>\n",
       "      <th>1010822</th>\n",
       "      <td>1</td>\n",
       "      <td>0</td>\n",
       "    </tr>\n",
       "    <tr>\n",
       "      <th>1010823</th>\n",
       "      <td>1</td>\n",
       "      <td>0</td>\n",
       "    </tr>\n",
       "    <tr>\n",
       "      <th>1010824</th>\n",
       "      <td>1</td>\n",
       "      <td>0</td>\n",
       "    </tr>\n",
       "    <tr>\n",
       "      <th>1010825</th>\n",
       "      <td>2</td>\n",
       "      <td>0</td>\n",
       "    </tr>\n",
       "  </tbody>\n",
       "</table>\n",
       "<p>1010826 rows × 2 columns</p>\n",
       "</div>"
      ],
      "text/plain": [
       "         ups  downs\n",
       "0         -1     -1\n",
       "1         -1     -1\n",
       "2          3      0\n",
       "3         -1     -1\n",
       "4         -1     -1\n",
       "...      ...    ...\n",
       "1010821    2      0\n",
       "1010822    1      0\n",
       "1010823    1      0\n",
       "1010824    1      0\n",
       "1010825    2      0\n",
       "\n",
       "[1010826 rows x 2 columns]"
      ]
     },
     "execution_count": 18,
     "metadata": {},
     "output_type": "execute_result"
    }
   ],
   "source": [
    "training_csv_1[[\"ups\", \"downs\"]]"
   ]
  },
  {
   "cell_type": "markdown",
   "id": "c94ef3be",
   "metadata": {},
   "source": [
    "##### Notice how ups and downs seem to have a correlation? Lets test this theory out"
   ]
  },
  {
   "cell_type": "code",
   "execution_count": 22,
   "id": "9a7de7c4",
   "metadata": {},
   "outputs": [
    {
     "data": {
      "text/html": [
       "<div>\n",
       "<style scoped>\n",
       "    .dataframe tbody tr th:only-of-type {\n",
       "        vertical-align: middle;\n",
       "    }\n",
       "\n",
       "    .dataframe tbody tr th {\n",
       "        vertical-align: top;\n",
       "    }\n",
       "\n",
       "    .dataframe thead th {\n",
       "        text-align: right;\n",
       "    }\n",
       "</style>\n",
       "<table border=\"1\" class=\"dataframe\">\n",
       "  <thead>\n",
       "    <tr style=\"text-align: right;\">\n",
       "      <th></th>\n",
       "      <th>label</th>\n",
       "      <th>comment</th>\n",
       "      <th>author</th>\n",
       "      <th>subreddit</th>\n",
       "      <th>score</th>\n",
       "      <th>ups</th>\n",
       "      <th>downs</th>\n",
       "      <th>date</th>\n",
       "      <th>created_utc</th>\n",
       "      <th>parent_comment</th>\n",
       "    </tr>\n",
       "  </thead>\n",
       "  <tbody>\n",
       "    <tr>\n",
       "      <th>140</th>\n",
       "      <td>0</td>\n",
       "      <td>my comment very similar to this went down a fu...</td>\n",
       "      <td>Schumarker</td>\n",
       "      <td>Android</td>\n",
       "      <td>-6</td>\n",
       "      <td>-6</td>\n",
       "      <td>0</td>\n",
       "      <td>2016-09</td>\n",
       "      <td>2016-09-24 21:50:56</td>\n",
       "      <td>Badumm-tzz</td>\n",
       "    </tr>\n",
       "    <tr>\n",
       "      <th>204</th>\n",
       "      <td>0</td>\n",
       "      <td>it really does</td>\n",
       "      <td>Horus_Krishna_2</td>\n",
       "      <td>radiohead</td>\n",
       "      <td>-1</td>\n",
       "      <td>-1</td>\n",
       "      <td>0</td>\n",
       "      <td>2016-09</td>\n",
       "      <td>2016-09-14 20:07:04</td>\n",
       "      <td>As far as I know, someone's reddit history doe...</td>\n",
       "    </tr>\n",
       "    <tr>\n",
       "      <th>414</th>\n",
       "      <td>0</td>\n",
       "      <td>meh, my upper body blows his away.</td>\n",
       "      <td>GiveMeSomeIhedigbo</td>\n",
       "      <td>bodybuilding</td>\n",
       "      <td>-6</td>\n",
       "      <td>-6</td>\n",
       "      <td>0</td>\n",
       "      <td>2016-09</td>\n",
       "      <td>2016-09-19 06:27:32</td>\n",
       "      <td>Do you Agree that this version is The BEST Ver...</td>\n",
       "    </tr>\n",
       "    <tr>\n",
       "      <th>431</th>\n",
       "      <td>0</td>\n",
       "      <td>such a shitty meme.</td>\n",
       "      <td>Geralt-of_Rivia</td>\n",
       "      <td>AdviceAnimals</td>\n",
       "      <td>-4</td>\n",
       "      <td>-4</td>\n",
       "      <td>0</td>\n",
       "      <td>2016-09</td>\n",
       "      <td>2016-09-02 02:39:44</td>\n",
       "      <td>Front page post with 2000 comments and is 10 h...</td>\n",
       "    </tr>\n",
       "    <tr>\n",
       "      <th>454</th>\n",
       "      <td>0</td>\n",
       "      <td>this sub is for open ended questions, not yes ...</td>\n",
       "      <td>hunterz5</td>\n",
       "      <td>AskReddit</td>\n",
       "      <td>-3</td>\n",
       "      <td>-3</td>\n",
       "      <td>0</td>\n",
       "      <td>2016-09</td>\n",
       "      <td>2016-09-10 01:54:47</td>\n",
       "      <td>Do you think IB/AP classes are truly worth it?...</td>\n",
       "    </tr>\n",
       "    <tr>\n",
       "      <th>...</th>\n",
       "      <td>...</td>\n",
       "      <td>...</td>\n",
       "      <td>...</td>\n",
       "      <td>...</td>\n",
       "      <td>...</td>\n",
       "      <td>...</td>\n",
       "      <td>...</td>\n",
       "      <td>...</td>\n",
       "      <td>...</td>\n",
       "      <td>...</td>\n",
       "    </tr>\n",
       "    <tr>\n",
       "      <th>1010772</th>\n",
       "      <td>1</td>\n",
       "      <td>nsfw, thanks.</td>\n",
       "      <td>Underdogg13</td>\n",
       "      <td>pics</td>\n",
       "      <td>-1</td>\n",
       "      <td>-1</td>\n",
       "      <td>0</td>\n",
       "      <td>2009-09</td>\n",
       "      <td>2009-09-06 17:16:11</td>\n",
       "      <td>(PIC) Penelope Cruz, firm and without shirt. F...</td>\n",
       "    </tr>\n",
       "    <tr>\n",
       "      <th>1010790</th>\n",
       "      <td>1</td>\n",
       "      <td>.. erm .. good for them, i guess .. they're ma...</td>\n",
       "      <td>mijj</td>\n",
       "      <td>Economics</td>\n",
       "      <td>-2</td>\n",
       "      <td>-2</td>\n",
       "      <td>0</td>\n",
       "      <td>2009-10</td>\n",
       "      <td>2009-10-30 01:12:47</td>\n",
       "      <td>There was a rash of muggings in my neighborhoo...</td>\n",
       "    </tr>\n",
       "    <tr>\n",
       "      <th>1010791</th>\n",
       "      <td>1</td>\n",
       "      <td>zombie, frankenstein, jesus, now thats a real ...</td>\n",
       "      <td>Rip_Van_Winkle</td>\n",
       "      <td>pics</td>\n",
       "      <td>-2</td>\n",
       "      <td>-2</td>\n",
       "      <td>0</td>\n",
       "      <td>2009-10</td>\n",
       "      <td>2009-10-31 23:20:10</td>\n",
       "      <td>jesus christ, that's a funny diagram.</td>\n",
       "    </tr>\n",
       "    <tr>\n",
       "      <th>1010801</th>\n",
       "      <td>1</td>\n",
       "      <td>yes, and there's no such thing as mental illne...</td>\n",
       "      <td>Davin900</td>\n",
       "      <td>worldnews</td>\n",
       "      <td>-1</td>\n",
       "      <td>-1</td>\n",
       "      <td>0</td>\n",
       "      <td>2009-08</td>\n",
       "      <td>2009-08-14 18:34:29</td>\n",
       "      <td>And my parents had a rough upbringing/backgrou...</td>\n",
       "    </tr>\n",
       "    <tr>\n",
       "      <th>1010815</th>\n",
       "      <td>0</td>\n",
       "      <td>who said i didn't have a big dick?</td>\n",
       "      <td>jemenfiche</td>\n",
       "      <td>reddit.com</td>\n",
       "      <td>-2</td>\n",
       "      <td>-2</td>\n",
       "      <td>0</td>\n",
       "      <td>2009-02</td>\n",
       "      <td>2009-02-20 02:27:15</td>\n",
       "      <td>Some of us have big dicks.</td>\n",
       "    </tr>\n",
       "  </tbody>\n",
       "</table>\n",
       "<p>61730 rows × 10 columns</p>\n",
       "</div>"
      ],
      "text/plain": [
       "         label                                            comment  \\\n",
       "140          0  my comment very similar to this went down a fu...   \n",
       "204          0                                     it really does   \n",
       "414          0                 meh, my upper body blows his away.   \n",
       "431          0                                such a shitty meme.   \n",
       "454          0  this sub is for open ended questions, not yes ...   \n",
       "...        ...                                                ...   \n",
       "1010772      1                                      nsfw, thanks.   \n",
       "1010790      1  .. erm .. good for them, i guess .. they're ma...   \n",
       "1010791      1  zombie, frankenstein, jesus, now thats a real ...   \n",
       "1010801      1  yes, and there's no such thing as mental illne...   \n",
       "1010815      0                 who said i didn't have a big dick?   \n",
       "\n",
       "                     author      subreddit  score  ups  downs     date  \\\n",
       "140              Schumarker        Android     -6   -6      0  2016-09   \n",
       "204         Horus_Krishna_2      radiohead     -1   -1      0  2016-09   \n",
       "414      GiveMeSomeIhedigbo   bodybuilding     -6   -6      0  2016-09   \n",
       "431         Geralt-of_Rivia  AdviceAnimals     -4   -4      0  2016-09   \n",
       "454                hunterz5      AskReddit     -3   -3      0  2016-09   \n",
       "...                     ...            ...    ...  ...    ...      ...   \n",
       "1010772         Underdogg13           pics     -1   -1      0  2009-09   \n",
       "1010790                mijj      Economics     -2   -2      0  2009-10   \n",
       "1010791      Rip_Van_Winkle           pics     -2   -2      0  2009-10   \n",
       "1010801            Davin900      worldnews     -1   -1      0  2009-08   \n",
       "1010815          jemenfiche     reddit.com     -2   -2      0  2009-02   \n",
       "\n",
       "                 created_utc  \\\n",
       "140      2016-09-24 21:50:56   \n",
       "204      2016-09-14 20:07:04   \n",
       "414      2016-09-19 06:27:32   \n",
       "431      2016-09-02 02:39:44   \n",
       "454      2016-09-10 01:54:47   \n",
       "...                      ...   \n",
       "1010772  2009-09-06 17:16:11   \n",
       "1010790  2009-10-30 01:12:47   \n",
       "1010791  2009-10-31 23:20:10   \n",
       "1010801  2009-08-14 18:34:29   \n",
       "1010815  2009-02-20 02:27:15   \n",
       "\n",
       "                                            parent_comment  \n",
       "140                                             Badumm-tzz  \n",
       "204      As far as I know, someone's reddit history doe...  \n",
       "414      Do you Agree that this version is The BEST Ver...  \n",
       "431      Front page post with 2000 comments and is 10 h...  \n",
       "454      Do you think IB/AP classes are truly worth it?...  \n",
       "...                                                    ...  \n",
       "1010772  (PIC) Penelope Cruz, firm and without shirt. F...  \n",
       "1010790  There was a rash of muggings in my neighborhoo...  \n",
       "1010791              jesus christ, that's a funny diagram.  \n",
       "1010801  And my parents had a rough upbringing/backgrou...  \n",
       "1010815                         Some of us have big dicks.  \n",
       "\n",
       "[61730 rows x 10 columns]"
      ]
     },
     "execution_count": 22,
     "metadata": {},
     "output_type": "execute_result"
    }
   ],
   "source": [
    "training_csv_1[training_csv_1[\"ups\"].apply(lambda x: -1 if x <= -1 else 0) != training_csv_1[\"downs\"]]"
   ]
  },
  {
   "cell_type": "markdown",
   "id": "4728af8d",
   "metadata": {},
   "source": [
    "##### Only 6.1% does not follow the rules, is downs worth keeping? Debatable I guess"
   ]
  },
  {
   "cell_type": "markdown",
   "id": "57271aa7",
   "metadata": {},
   "source": [
    "### Build model using Comment Column only (Unigram Model)"
   ]
  },
  {
   "cell_type": "code",
   "execution_count": 7,
   "id": "65712b28",
   "metadata": {},
   "outputs": [],
   "source": [
    "from sklearn.model_selection import train_test_split\n",
    "from sklearn.linear_model import SGDClassifier"
   ]
  },
  {
   "cell_type": "code",
   "execution_count": 8,
   "id": "e459e380",
   "metadata": {},
   "outputs": [],
   "source": [
    "training_csv_1[\"comment\"] = training_csv_1[\"comment\"].apply(lambda x: x.lower())"
   ]
  },
  {
   "cell_type": "code",
   "execution_count": 9,
   "id": "4b4a75b2",
   "metadata": {},
   "outputs": [],
   "source": [
    "X_train, X_val, y_train, y_val = train_test_split(\n",
    "    training_csv_1[\"comment\"], \n",
    "    training_csv_1[\"label\"], \n",
    "    test_size = 0.2\n",
    ")"
   ]
  },
  {
   "cell_type": "code",
   "execution_count": 10,
   "id": "c3c11c4d",
   "metadata": {},
   "outputs": [],
   "source": [
    "def create_ngram_vectorizer(text_train, ngram_range = (1,1)):\n",
    "    vectorizer = CountVectorizer(ngram_range = ngram_range)\n",
    "    vectorizer.fit(text_train)\n",
    "    return vectorizer"
   ]
  },
  {
   "cell_type": "code",
   "execution_count": 11,
   "id": "d5189813",
   "metadata": {},
   "outputs": [],
   "source": [
    "unigram_vectorizer = create_ngram_vectorizer(X_train)"
   ]
  },
  {
   "cell_type": "code",
   "execution_count": 12,
   "id": "c9e72724",
   "metadata": {},
   "outputs": [],
   "source": [
    "X_train_transformed = unigram_vectorizer.transform(X_train)\n",
    "X_val_transformed = unigram_vectorizer.transform(X_val)"
   ]
  },
  {
   "cell_type": "code",
   "execution_count": 13,
   "id": "c842c871",
   "metadata": {},
   "outputs": [
    {
     "data": {
      "text/plain": [
       "SGDClassifier()"
      ]
     },
     "execution_count": 13,
     "metadata": {},
     "output_type": "execute_result"
    }
   ],
   "source": [
    "classifier = SGDClassifier()\n",
    "classifier.fit(X_train_transformed, y_train)"
   ]
  },
  {
   "cell_type": "code",
   "execution_count": 14,
   "id": "120b0aa5",
   "metadata": {},
   "outputs": [
    {
     "name": "stdout",
     "output_type": "stream",
     "text": [
      "Training Score: 0.6871095392377513\n",
      "Validation Score: 0.6793328254998368\n"
     ]
    }
   ],
   "source": [
    "print(f\"Training Score: {classifier.score(X_train_transformed, y_train)}\")\n",
    "print(f\"Validation Score: {classifier.score(X_val_transformed, y_val)}\")"
   ]
  },
  {
   "cell_type": "markdown",
   "id": "7574c404",
   "metadata": {},
   "source": [
    "### Now what? Bigrams and Trigrams, LETZ GO!!!"
   ]
  },
  {
   "cell_type": "code",
   "execution_count": 15,
   "id": "12802ae3",
   "metadata": {},
   "outputs": [
    {
     "name": "stdout",
     "output_type": "stream",
     "text": [
      "Training Score: 0.7339784334578191\n",
      "Validation Score: 0.7072306916098652\n",
      "Training Score: 0.7626888927361314\n",
      "Validation Score: 0.7115637644312099\n"
     ]
    }
   ],
   "source": [
    "for i in range(2, 4):\n",
    "    igram_vectorizer = create_ngram_vectorizer(X_train, ngram_range = (1,i))\n",
    "    X_train_transformed = igram_vectorizer.transform(X_train)\n",
    "    X_val_transformed = igram_vectorizer.transform(X_val)\n",
    "    \n",
    "    classifier.fit(X_train_transformed, y_train)\n",
    "    \n",
    "    print(f\"Training Score: {classifier.score(X_train_transformed, y_train)}\")\n",
    "    print(f\"Validation Score: {classifier.score(X_val_transformed, y_val)}\")"
   ]
  },
  {
   "cell_type": "code",
   "execution_count": null,
   "id": "f37f92e2",
   "metadata": {},
   "outputs": [],
   "source": []
  }
 ],
 "metadata": {
  "kernelspec": {
   "display_name": "Python 3 (ipykernel)",
   "language": "python",
   "name": "python3"
  },
  "language_info": {
   "codemirror_mode": {
    "name": "ipython",
    "version": 3
   },
   "file_extension": ".py",
   "mimetype": "text/x-python",
   "name": "python",
   "nbconvert_exporter": "python",
   "pygments_lexer": "ipython3",
   "version": "3.8.10"
  }
 },
 "nbformat": 4,
 "nbformat_minor": 5
}
